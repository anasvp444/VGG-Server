{
  "nbformat": 4,
  "nbformat_minor": 0,
  "metadata": {
    "colab": {
      "name": "VGG-16 Server.ipynb",
      "provenance": [],
      "collapsed_sections": [],
      "authorship_tag": "ABX9TyNIZcjrCjC6zvjxMVsYyYA8",
      "include_colab_link": true
    },
    "kernelspec": {
      "name": "python3",
      "display_name": "Python 3"
    }
  },
  "cells": [
    {
      "cell_type": "markdown",
      "metadata": {
        "id": "view-in-github",
        "colab_type": "text"
      },
      "source": [
        "<a href=\"https://colab.research.google.com/github/anasvp444/VGG-Server/blob/main/VGG_16_Server.ipynb\" target=\"_parent\"><img src=\"https://colab.research.google.com/assets/colab-badge.svg\" alt=\"Open In Colab\"/></a>"
      ]
    },
    {
      "cell_type": "code",
      "metadata": {
        "colab": {
          "base_uri": "https://localhost:8080/"
        },
        "id": "n-LNYxgtN8n7",
        "outputId": "c1203ec2-f441-4f0c-e610-90869d42fa2b"
      },
      "source": [
        "!gdown https://drive.google.com/uc?id=1x7A6T80takwnJuNSKI6CiwKPv8De9XmV\r\n"
      ],
      "execution_count": 1,
      "outputs": [
        {
          "output_type": "stream",
          "text": [
            "Downloading...\n",
            "From: https://drive.google.com/uc?id=1x7A6T80takwnJuNSKI6CiwKPv8De9XmV\n",
            "To: /content/templates.zip\n",
            "\r  0% 0.00/653k [00:00<?, ?B/s]\r100% 653k/653k [00:00<00:00, 43.3MB/s]\n"
          ],
          "name": "stdout"
        }
      ]
    },
    {
      "cell_type": "code",
      "metadata": {
        "colab": {
          "base_uri": "https://localhost:8080/"
        },
        "id": "qhuYQPaYO6Tz",
        "outputId": "8e21d100-4811-4d3a-f157-45168f2a661c"
      },
      "source": [
        "!unzip templates.zip"
      ],
      "execution_count": 2,
      "outputs": [
        {
          "output_type": "stream",
          "text": [
            "Archive:  templates.zip\n",
            "   creating: static/css/\n",
            "  inflating: static/css/.DS_Store    \n",
            "  inflating: static/css/bootstrap.min.css  \n",
            "  inflating: static/css/font-awesome.min.css  \n",
            "  inflating: static/css/styles.css   \n",
            "   creating: static/fonts/\n",
            "  inflating: static/fonts/FontAwesome.otf  \n",
            "  inflating: static/fonts/fontawesome-webfont.eot  \n",
            "  inflating: static/fonts/fontawesome-webfont.svg  \n",
            "  inflating: static/fonts/fontawesome-webfont.ttf  \n",
            "  inflating: static/fonts/fontawesome-webfont.woff  \n",
            "  inflating: static/fonts/fontawesome-webfont.woff2  \n",
            "   creating: static/js/\n",
            "  inflating: static/js/scripts.js    \n",
            "   creating: static/uploads/\n",
            "  inflating: templates/index.html    \n"
          ],
          "name": "stdout"
        }
      ]
    },
    {
      "cell_type": "code",
      "metadata": {
        "colab": {
          "base_uri": "https://localhost:8080/"
        },
        "id": "Q-Km31G7PHay",
        "outputId": "98a1e657-fc04-48d7-bd4a-fa3aaca3e7c2"
      },
      "source": [
        "!pip install flask-ngrok"
      ],
      "execution_count": 3,
      "outputs": [
        {
          "output_type": "stream",
          "text": [
            "Collecting flask-ngrok\n",
            "  Downloading https://files.pythonhosted.org/packages/af/6c/f54cb686ad1129e27d125d182f90f52b32f284e6c8df58c1bae54fa1adbc/flask_ngrok-0.0.25-py3-none-any.whl\n",
            "Requirement already satisfied: requests in /usr/local/lib/python3.7/dist-packages (from flask-ngrok) (2.23.0)\n",
            "Requirement already satisfied: Flask>=0.8 in /usr/local/lib/python3.7/dist-packages (from flask-ngrok) (1.1.2)\n",
            "Requirement already satisfied: urllib3!=1.25.0,!=1.25.1,<1.26,>=1.21.1 in /usr/local/lib/python3.7/dist-packages (from requests->flask-ngrok) (1.24.3)\n",
            "Requirement already satisfied: chardet<4,>=3.0.2 in /usr/local/lib/python3.7/dist-packages (from requests->flask-ngrok) (3.0.4)\n",
            "Requirement already satisfied: idna<3,>=2.5 in /usr/local/lib/python3.7/dist-packages (from requests->flask-ngrok) (2.10)\n",
            "Requirement already satisfied: certifi>=2017.4.17 in /usr/local/lib/python3.7/dist-packages (from requests->flask-ngrok) (2020.12.5)\n",
            "Requirement already satisfied: Werkzeug>=0.15 in /usr/local/lib/python3.7/dist-packages (from Flask>=0.8->flask-ngrok) (1.0.1)\n",
            "Requirement already satisfied: itsdangerous>=0.24 in /usr/local/lib/python3.7/dist-packages (from Flask>=0.8->flask-ngrok) (1.1.0)\n",
            "Requirement already satisfied: click>=5.1 in /usr/local/lib/python3.7/dist-packages (from Flask>=0.8->flask-ngrok) (7.1.2)\n",
            "Requirement already satisfied: Jinja2>=2.10.1 in /usr/local/lib/python3.7/dist-packages (from Flask>=0.8->flask-ngrok) (2.11.3)\n",
            "Requirement already satisfied: MarkupSafe>=0.23 in /usr/local/lib/python3.7/dist-packages (from Jinja2>=2.10.1->Flask>=0.8->flask-ngrok) (1.1.1)\n",
            "Installing collected packages: flask-ngrok\n",
            "Successfully installed flask-ngrok-0.0.25\n"
          ],
          "name": "stdout"
        }
      ]
    },
    {
      "cell_type": "code",
      "metadata": {
        "colab": {
          "base_uri": "https://localhost:8080/"
        },
        "id": "vbKGNtycPJvL",
        "outputId": "1faed686-662a-4d6f-e9ff-e422ec8e54c3"
      },
      "source": [
        "!pip install Flask-Dropzone"
      ],
      "execution_count": 4,
      "outputs": [
        {
          "output_type": "stream",
          "text": [
            "Collecting Flask-Dropzone\n",
            "  Downloading https://files.pythonhosted.org/packages/90/59/75f018b163d9175fb6ab427125c1668e28ec6344735a2d84d84a594cc3ad/Flask_Dropzone-1.5.4-py2.py3-none-any.whl\n",
            "Requirement already satisfied: Flask in /usr/local/lib/python3.7/dist-packages (from Flask-Dropzone) (1.1.2)\n",
            "Requirement already satisfied: Jinja2>=2.10.1 in /usr/local/lib/python3.7/dist-packages (from Flask->Flask-Dropzone) (2.11.3)\n",
            "Requirement already satisfied: Werkzeug>=0.15 in /usr/local/lib/python3.7/dist-packages (from Flask->Flask-Dropzone) (1.0.1)\n",
            "Requirement already satisfied: itsdangerous>=0.24 in /usr/local/lib/python3.7/dist-packages (from Flask->Flask-Dropzone) (1.1.0)\n",
            "Requirement already satisfied: click>=5.1 in /usr/local/lib/python3.7/dist-packages (from Flask->Flask-Dropzone) (7.1.2)\n",
            "Requirement already satisfied: MarkupSafe>=0.23 in /usr/local/lib/python3.7/dist-packages (from Jinja2>=2.10.1->Flask->Flask-Dropzone) (1.1.1)\n",
            "Installing collected packages: Flask-Dropzone\n",
            "Successfully installed Flask-Dropzone-1.5.4\n"
          ],
          "name": "stdout"
        }
      ]
    },
    {
      "cell_type": "code",
      "metadata": {
        "id": "CBcn7bLGQQjk"
      },
      "source": [
        "from keras.preprocessing.image import load_img\r\n",
        "from keras.preprocessing.image import img_to_array\r\n",
        "from keras.applications.vgg16 import preprocess_input\r\n",
        "from keras.applications.vgg16 import decode_predictions"
      ],
      "execution_count": 5,
      "outputs": []
    },
    {
      "cell_type": "code",
      "metadata": {
        "id": "3A1Vu474QT8b"
      },
      "source": [
        "def predict(path):\r\n",
        "  image = load_img(path, target_size=(224, 224))\r\n",
        "  # convert the image pixels to a numpy array\r\n",
        "  image = img_to_array(image)\r\n",
        "  # reshape data for the model\r\n",
        "  image = image.reshape((1, image.shape[0], image.shape[1], image.shape[2]))\r\n",
        "  # prepare the image for the VGG model\r\n",
        "  image = preprocess_input(image)\r\n",
        "  # predict the probability across all output classes\r\n",
        "  yhat = model.predict(image)\r\n",
        "  # convert the probabilities to class labels\r\n",
        "  result= decode_predictions(yhat)\r\n",
        "  labels = []\r\n",
        "  value= []\r\n",
        "  for i in range(5):\r\n",
        "      labels.append(result[0][i][1])\r\n",
        "      value.append(float(result[0][i][2]))\r\n",
        "  return labels,value"
      ],
      "execution_count": 6,
      "outputs": []
    },
    {
      "cell_type": "code",
      "metadata": {
        "colab": {
          "base_uri": "https://localhost:8080/"
        },
        "id": "1Sbjuxf2O9vb",
        "outputId": "ce9cde16-c561-49bf-99aa-a9484fe9cc92"
      },
      "source": [
        "from flask import Flask, render_template, request,jsonify\r\n",
        "from flask_dropzone import Dropzone\r\n",
        "from flask_ngrok import run_with_ngrok\r\n",
        "import os\r\n",
        "\r\n",
        "from keras.applications.vgg16 import VGG16\r\n",
        "model = VGG16()\r\n",
        "\r\n",
        "\r\n",
        "app = Flask(__name__)\r\n",
        "app.config['SECRET_KEY'] = 'my_secret!.'\r\n",
        "basedir = os.path.abspath(os.path.dirname('__file__'))\r\n",
        "\r\n",
        "app.config.update(\r\n",
        "    UPLOADED_PATH=os.path.join(basedir, 'static//uploads'),\r\n",
        "    # Flask-Dropzone config:\r\n",
        "    DROPZONE_ALLOWED_FILE_TYPE='image',\r\n",
        "    DROPZONE_MAX_FILE_SIZE=3,\r\n",
        "    DROPZONE_MAX_FILES=30,\r\n",
        ")\r\n",
        "\r\n",
        "dropzone = Dropzone(app)\r\n",
        "run_with_ngrok(app)\r\n",
        "\r\n",
        "@app.route('/', methods=['POST', 'GET'])\r\n",
        "def upload():\r\n",
        "    if request.method == 'POST':\r\n",
        "        f = request.files.get('file')\r\n",
        "        file_path = os.path.join(app.config['UPLOADED_PATH'], f.filename)\r\n",
        "        f.save(file_path)\r\n",
        "        labels,value = predict(file_path)\r\n",
        "        return jsonify(labels=  labels,\r\n",
        "        value = value)\r\n",
        "    return render_template('index.html')\r\n",
        "\r\n",
        "\r\n",
        "\r\n",
        "if __name__ == '__main__':\r\n",
        "    app.run()"
      ],
      "execution_count": 7,
      "outputs": [
        {
          "output_type": "stream",
          "text": [
            "Downloading data from https://storage.googleapis.com/tensorflow/keras-applications/vgg16/vgg16_weights_tf_dim_ordering_tf_kernels.h5\n",
            "553467904/553467096 [==============================] - 4s 0us/step\n",
            " * Serving Flask app \"__main__\" (lazy loading)\n",
            " * Environment: production\n",
            "\u001b[31m   WARNING: This is a development server. Do not use it in a production deployment.\u001b[0m\n",
            "\u001b[2m   Use a production WSGI server instead.\u001b[0m\n",
            " * Debug mode: off\n"
          ],
          "name": "stdout"
        },
        {
          "output_type": "stream",
          "text": [
            " * Running on http://127.0.0.1:5000/ (Press CTRL+C to quit)\n"
          ],
          "name": "stderr"
        },
        {
          "output_type": "stream",
          "text": [
            " * Running on http://1d9fad7dedd4.ngrok.io\n",
            " * Traffic stats available on http://127.0.0.1:4040\n"
          ],
          "name": "stdout"
        },
        {
          "output_type": "stream",
          "text": [
            "127.0.0.1 - - [25/Feb/2021 01:59:31] \"\u001b[37mGET / HTTP/1.1\u001b[0m\" 200 -\n",
            "127.0.0.1 - - [25/Feb/2021 01:59:32] \"\u001b[37mGET /static/css/font-awesome.min.css HTTP/1.1\u001b[0m\" 200 -\n",
            "127.0.0.1 - - [25/Feb/2021 01:59:32] \"\u001b[37mGET /static/css/styles.css HTTP/1.1\u001b[0m\" 200 -\n",
            "127.0.0.1 - - [25/Feb/2021 01:59:32] \"\u001b[37mGET /static/js/scripts.js HTTP/1.1\u001b[0m\" 200 -\n",
            "127.0.0.1 - - [25/Feb/2021 01:59:34] \"\u001b[33mGET /favicon.ico HTTP/1.1\u001b[0m\" 404 -\n"
          ],
          "name": "stderr"
        },
        {
          "output_type": "stream",
          "text": [
            "Downloading data from https://storage.googleapis.com/download.tensorflow.org/data/imagenet_class_index.json\n",
            "40960/35363 [==================================] - 0s 0us/step\n"
          ],
          "name": "stdout"
        },
        {
          "output_type": "stream",
          "text": [
            "127.0.0.1 - - [25/Feb/2021 02:03:03] \"\u001b[37mPOST / HTTP/1.1\u001b[0m\" 200 -\n",
            "127.0.0.1 - - [25/Feb/2021 02:03:10] \"\u001b[37mPOST / HTTP/1.1\u001b[0m\" 200 -\n",
            "127.0.0.1 - - [25/Feb/2021 02:03:14] \"\u001b[37mPOST / HTTP/1.1\u001b[0m\" 200 -\n",
            "127.0.0.1 - - [25/Feb/2021 02:03:18] \"\u001b[37mPOST / HTTP/1.1\u001b[0m\" 200 -\n",
            "127.0.0.1 - - [25/Feb/2021 02:04:26] \"\u001b[37mGET / HTTP/1.1\u001b[0m\" 200 -\n",
            "127.0.0.1 - - [25/Feb/2021 02:04:38] \"\u001b[37mPOST / HTTP/1.1\u001b[0m\" 200 -\n",
            "127.0.0.1 - - [25/Feb/2021 02:04:41] \"\u001b[37mPOST / HTTP/1.1\u001b[0m\" 200 -\n",
            "127.0.0.1 - - [25/Feb/2021 02:04:45] \"\u001b[37mPOST / HTTP/1.1\u001b[0m\" 200 -\n",
            "127.0.0.1 - - [25/Feb/2021 02:04:49] \"\u001b[37mPOST / HTTP/1.1\u001b[0m\" 200 -\n",
            "127.0.0.1 - - [25/Feb/2021 02:05:42] \"\u001b[37mGET / HTTP/1.1\u001b[0m\" 200 -\n",
            "127.0.0.1 - - [25/Feb/2021 02:06:02] \"\u001b[37mPOST / HTTP/1.1\u001b[0m\" 200 -\n",
            "127.0.0.1 - - [25/Feb/2021 02:06:06] \"\u001b[37mPOST / HTTP/1.1\u001b[0m\" 200 -\n",
            "127.0.0.1 - - [25/Feb/2021 02:06:09] \"\u001b[37mPOST / HTTP/1.1\u001b[0m\" 200 -\n",
            "127.0.0.1 - - [25/Feb/2021 02:06:12] \"\u001b[37mPOST / HTTP/1.1\u001b[0m\" 200 -\n"
          ],
          "name": "stderr"
        }
      ]
    }
  ]
}